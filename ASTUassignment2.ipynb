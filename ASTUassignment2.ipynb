{
  "nbformat": 4,
  "nbformat_minor": 0,
  "metadata": {
    "colab": {
      "name": "Welcome To Colaboratory",
      "provenance": [],
      "collapsed_sections": [],
      "include_colab_link": true
    },
    "kernelspec": {
      "display_name": "Python 3",
      "name": "python3"
    }
  },
  "cells": [
    {
      "cell_type": "markdown",
      "metadata": {
        "id": "view-in-github",
        "colab_type": "text"
      },
      "source": [
        "<a href=\"https://colab.research.google.com/github/nath229/My-first-Github-project-with-Eckovation/blob/master/ASTUassignment2.ipynb\" target=\"_parent\"><img src=\"https://colab.research.google.com/assets/colab-badge.svg\" alt=\"Open In Colab\"/></a>"
      ]
    },
    {
      "cell_type": "markdown",
      "metadata": {
        "colab_type": "text",
        "id": "5fCEDCU_qrC0"
      },
      "source": [
        "<p><img alt=\"Colaboratory logo\" height=\"45px\" src=\"/img/colab_favicon.ico\" align=\"left\" hspace=\"10px\" vspace=\"0px\"></p>\n",
        "\n",
        "<h1>What is Colaboratory?</h1>\n",
        "\n",
        "Colaboratory, or \"Colab\" for short, allows you to write and execute Python in your browser, with \n",
        "- Zero configuration required\n",
        "- Free access to GPUs\n",
        "- Easy sharing\n",
        "\n",
        "Whether you're a **student**, a **data scientist** or an **AI researcher**, Colab can make your work easier. Watch [Introduction to Colab](https://www.youtube.com/watch?v=inN8seMm7UI) to learn more, or just get started below!"
      ]
    },
    {
      "cell_type": "markdown",
      "metadata": {
        "colab_type": "text",
        "id": "2fhs6GZ4qFMx"
      },
      "source": [
        "To execute the code in the above cell, select it with a click and then either press the play button to the left of the code, or use the keyboard shortcut \"Command/Ctrl+Enter\". To edit the code, just click the cell and start editing.\n",
        "\n",
        "Variables that you define in one cell can later be used in other cells:"
      ]
    },
    {
      "cell_type": "code",
      "metadata": {
        "id": "Z2AwlZLgB-Xf",
        "colab_type": "code",
        "colab": {}
      },
      "source": [
        "import cv2\n",
        "import numpy as np\n",
        "import matplotlib.image as mpimg\n",
        "import os \n",
        "import sys\n",
        "import matplotlib.pyplot as plt"
      ],
      "execution_count": 55,
      "outputs": []
    },
    {
      "cell_type": "markdown",
      "metadata": {
        "id": "deeBMpQNDHN2",
        "colab_type": "text"
      },
      "source": [
        "Foreground Detection: d(x,y,t) = I(x,y,t) - Mean(x,y,t-1)\n",
        "\n",
        "Change(x,y,t) = d2(x,y,t)<=lmda2 * varience(x,y,t)\n",
        "\n",
        "which is implementing below"
      ]
    },
    {
      "cell_type": "code",
      "metadata": {
        "id": "jj_GLTmpB-cH",
        "colab_type": "code",
        "colab": {}
      },
      "source": [
        "def foreground_change_Detection(img_file,mean,varience,lmda):\n",
        "    img=cv2.imread(img_file)\n",
        "    diff=img - mean\n",
        "    var = varience *(lmda**2) \n",
        "    diff_square = np.square(diff)\n",
        "    I = diff_square - var #Checking the inequality\n",
        "    mask = np.all(I>0,axis=2)\n",
        "    return_I = 255*mask.astype(int)\n",
        "    rerturn_I = return_I.astype(np.uint8)\n",
        "    return return_I"
      ],
      "execution_count": 56,
      "outputs": []
    },
    {
      "cell_type": "markdown",
      "metadata": {
        "id": "vNQ60Ug5E5Mi",
        "colab_type": "text"
      },
      "source": [
        "Initial Background condition:\n",
        "    Calculating mean and varience"
      ]
    },
    {
      "cell_type": "code",
      "metadata": {
        "id": "uTwjPYDEB-fY",
        "colab_type": "code",
        "colab": {}
      },
      "source": [
        "def initial_Background(intial_img):\n",
        "    arr_img = mpimg.imread(intial_img)\n",
        "    mean = arr_img\n",
        "    varience = 9*np.ones(arr_img.shape)\n",
        "    return mean,varience"
      ],
      "execution_count": 57,
      "outputs": []
    },
    {
      "cell_type": "markdown",
      "metadata": {
        "id": "tXC___HOFuTY",
        "colab_type": "text"
      },
      "source": [
        "The return matrix is divided into some patches and by voting \n",
        "decides that for each pixel.(255 or 0)"
      ]
    },
    {
      "cell_type": "code",
      "metadata": {
        "id": "zUCsF_qYB-aK",
        "colab_type": "code",
        "colab": {}
      },
      "source": [
        "def voting(return_I,eta,a,b):\n",
        "    row ,column = return_I.shape\n",
        "    column_I = np.zeros(( return_I.shape[0], return_I.shape[1]))\n",
        "    for i in range(a,row - 1 -a):\n",
        "       for j in range(b,column - 1 -b):\n",
        "          patch = return_I[i-a:i,j-b:j]\n",
        "          unique_val, counts = np.unique( patch,return_counts=True)\n",
        "\n",
        "          if len(counts)==1 and unique_val[0]==1:\n",
        "              column_I[i,j] = 255\n",
        "          if len(counts)>1:\n",
        "              if counts[1]>eta*a*b:\n",
        "                  column_I[i,j] = 255\n",
        "    column_I =  column_I.astype(np.uint8)\n",
        "\n",
        "    return   column_I\n"
      ],
      "execution_count": 58,
      "outputs": []
    },
    {
      "cell_type": "markdown",
      "metadata": {
        "id": "78y-EwNaHtcK",
        "colab_type": "text"
      },
      "source": [
        "Updating the mean and varience images using a weighted average method  "
      ]
    },
    {
      "cell_type": "code",
      "metadata": {
        "id": "8UZgOVWdHqyw",
        "colab_type": "code",
        "colab": {}
      },
      "source": [
        "def Update_function(column_I,img_path,mean,varience,alpha):\n",
        "    img = mpimg.imread(img_path)\n",
        "    updated_mean = np.zeros(img.shape)\n",
        "    updated_varience = np.zeros(img.shape)\n",
        "    diff = img - mean\n",
        "    diff_square = np.square(diff)\n",
        "    for  i in range(column_I.shape[0]):\n",
        "        for  j in range(column_I.shape[1]): \n",
        "            if column_I[i,j]==0:#white\n",
        "                updated_mean[i,j,:] = (1-alpha)*mean[i,j,:] + alpha*img[i,j,:]\n",
        "                updated_varience[i,j,:] = (1-alpha)*(varience[i,j,:] + alpha*diff_square[i,j,:])\n",
        "                updated_varience[i,j,:]= np.clip(updated_varience[i,j,:],a_min = 9,a_max=None)\n",
        "    return updated_mean , updated_varience\n",
        "\n"
      ],
      "execution_count": 59,
      "outputs": []
    },
    {
      "cell_type": "code",
      "metadata": {
        "id": "xQEBVXKc_dW4",
        "colab_type": "code",
        "colab": {}
      },
      "source": [
        "from zipfile import ZipFile\n",
        "zf = ZipFile('/content/AirStripVideoDataSetForBackGroundSubtraction.zip')\n",
        "zf.extractall()\n",
        "zf.close()"
      ],
      "execution_count": 60,
      "outputs": []
    },
    {
      "cell_type": "markdown",
      "metadata": {
        "id": "5wJool5RAahP",
        "colab_type": "text"
      },
      "source": [
        "Main Function starts here\n",
        " "
      ]
    },
    {
      "cell_type": "code",
      "metadata": {
        "id": "cdETCsQ_Bphc",
        "colab_type": "code",
        "colab": {}
      },
      "source": [
        "def background_substraction(img_directory,num,lmbda,eta,a,b,alpha):\n",
        "    img_file = os.listdir(img_directory)\n",
        "    init_image = os.path.join(img_directory,img_file[0])\n",
        "    mean,varience = initial_Background(init_image)\n",
        "\n",
        "    for i in range(1,num):\n",
        "        img_path = os.path.join(img_directory,img_file[i])\n",
        "\n",
        "        fig ,ax = plt.subplots(1,3,figsize=(15,15))\n",
        "        return_I = foreground_change_Detection(img_path,mean,varience,lmbda)\n",
        "        ax[0].imshow(return_I,cmap= 'gray')\n",
        "        column_I = voting(return_I,eta,a,b)\n",
        "        mean,varience = Update_function(column_I,img_path,mean,varience,alpha)\n",
        "        ax[1].imshow(column_I,cmap= 'gray')\n",
        "        img = cv2.imread(img_path)\n",
        "        ax[2].imshow(img,cmap= 'gray')\n",
        "        plt.show()\n",
        "    return mean,varience"
      ],
      "execution_count": 61,
      "outputs": []
    },
    {
      "cell_type": "code",
      "metadata": {
        "id": "-sliekrHAqKe",
        "colab_type": "code",
        "colab": {
          "base_uri": "https://localhost:8080/",
          "height": 34
        },
        "outputId": "e87acfdb-1286-46ce-8455-47c5e8b49176"
      },
      "source": [
        "num = int(input(\"how many time want to scan\"))"
      ],
      "execution_count": 62,
      "outputs": [
        {
          "output_type": "stream",
          "text": [
            "how many time want to scan10\n"
          ],
          "name": "stdout"
        }
      ]
    },
    {
      "cell_type": "code",
      "metadata": {
        "id": "NZXeN7Pq24c8",
        "colab_type": "code",
        "colab": {}
      },
      "source": [
        "mean,varience = background_substraction('/content/AirStripVideo/Images',num,0.7,0.7,7,7,0.8)"
      ],
      "execution_count": null,
      "outputs": []
    }
  ]
}