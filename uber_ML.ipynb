{
  "nbformat": 4,
  "nbformat_minor": 0,
  "metadata": {
    "colab": {
      "name": "Welcome To Colaboratory",
      "provenance": [],
      "collapsed_sections": [],
      "toc_visible": true,
      "include_colab_link": true
    },
    "kernelspec": {
      "display_name": "Python 3",
      "name": "python3"
    }
  },
  "cells": [
    {
      "cell_type": "markdown",
      "metadata": {
        "id": "view-in-github",
        "colab_type": "text"
      },
      "source": [
        "<a href=\"https://colab.research.google.com/github/nath229/My-first-Github-project-with-Eckovation/blob/master/uber_ML.ipynb\" target=\"_parent\"><img src=\"https://colab.research.google.com/assets/colab-badge.svg\" alt=\"Open In Colab\"/></a>"
      ]
    },
    {
      "cell_type": "code",
      "metadata": {
        "id": "TdmEub-xmE1j",
        "colab_type": "code",
        "colab": {}
      },
      "source": [
        ""
      ],
      "execution_count": null,
      "outputs": []
    },
    {
      "cell_type": "markdown",
      "metadata": {
        "id": "AYXiElFzmc-y",
        "colab_type": "text"
      },
      "source": [
        "# Topic: Analyze UBER Data in Python Using Machine Learning."
      ]
    },
    {
      "cell_type": "code",
      "metadata": {
        "id": "oD5k5EKlmE4V",
        "colab_type": "code",
        "colab": {}
      },
      "source": [
        "import pandas as pd\n"
      ],
      "execution_count": 57,
      "outputs": []
    },
    {
      "cell_type": "code",
      "metadata": {
        "id": "okaJ9Z1zmE6M",
        "colab_type": "code",
        "colab": {}
      },
      "source": [
        "data = pd.read_csv('/content/uber_dataset.csv')"
      ],
      "execution_count": 58,
      "outputs": []
    },
    {
      "cell_type": "markdown",
      "metadata": {
        "id": "NXOsn66ITTmI",
        "colab_type": "text"
      },
      "source": [
        "Dataset samples"
      ]
    },
    {
      "cell_type": "code",
      "metadata": {
        "id": "Y8jALEyRmE8C",
        "colab_type": "code",
        "colab": {
          "base_uri": "https://localhost:8080/",
          "height": 195
        },
        "outputId": "0acc8a66-0ea7-4877-c28c-82fc9ffb4fb4"
      },
      "source": [
        "data.head()"
      ],
      "execution_count": 59,
      "outputs": [
        {
          "output_type": "execute_result",
          "data": {
            "text/html": [
              "<div>\n",
              "<style scoped>\n",
              "    .dataframe tbody tr th:only-of-type {\n",
              "        vertical-align: middle;\n",
              "    }\n",
              "\n",
              "    .dataframe tbody tr th {\n",
              "        vertical-align: top;\n",
              "    }\n",
              "\n",
              "    .dataframe thead th {\n",
              "        text-align: right;\n",
              "    }\n",
              "</style>\n",
              "<table border=\"1\" class=\"dataframe\">\n",
              "  <thead>\n",
              "    <tr style=\"text-align: right;\">\n",
              "      <th></th>\n",
              "      <th>START_DATE*</th>\n",
              "      <th>END_DATE*</th>\n",
              "      <th>CATEGORY*</th>\n",
              "      <th>START*</th>\n",
              "      <th>STOP*</th>\n",
              "      <th>MILES*</th>\n",
              "      <th>PURPOSE*</th>\n",
              "    </tr>\n",
              "  </thead>\n",
              "  <tbody>\n",
              "    <tr>\n",
              "      <th>0</th>\n",
              "      <td>1/1/2016 21:11</td>\n",
              "      <td>1/1/2016 21:17</td>\n",
              "      <td>Business</td>\n",
              "      <td>Fort Pierce</td>\n",
              "      <td>Fort Pierce</td>\n",
              "      <td>5.1</td>\n",
              "      <td>Meal/Entertain</td>\n",
              "    </tr>\n",
              "    <tr>\n",
              "      <th>1</th>\n",
              "      <td>1/2/2016 1:25</td>\n",
              "      <td>1/2/2016 1:37</td>\n",
              "      <td>Business</td>\n",
              "      <td>Fort Pierce</td>\n",
              "      <td>Fort Pierce</td>\n",
              "      <td>5.0</td>\n",
              "      <td>NaN</td>\n",
              "    </tr>\n",
              "    <tr>\n",
              "      <th>2</th>\n",
              "      <td>1/2/2016 20:25</td>\n",
              "      <td>1/2/2016 20:38</td>\n",
              "      <td>Business</td>\n",
              "      <td>Fort Pierce</td>\n",
              "      <td>Fort Pierce</td>\n",
              "      <td>4.8</td>\n",
              "      <td>Errand/Supplies</td>\n",
              "    </tr>\n",
              "    <tr>\n",
              "      <th>3</th>\n",
              "      <td>1/5/2016 17:31</td>\n",
              "      <td>1/5/2016 17:45</td>\n",
              "      <td>Business</td>\n",
              "      <td>Fort Pierce</td>\n",
              "      <td>Fort Pierce</td>\n",
              "      <td>4.7</td>\n",
              "      <td>Meeting</td>\n",
              "    </tr>\n",
              "    <tr>\n",
              "      <th>4</th>\n",
              "      <td>1/6/2016 14:42</td>\n",
              "      <td>1/6/2016 15:49</td>\n",
              "      <td>Business</td>\n",
              "      <td>Fort Pierce</td>\n",
              "      <td>West Palm Beach</td>\n",
              "      <td>63.7</td>\n",
              "      <td>Customer Visit</td>\n",
              "    </tr>\n",
              "  </tbody>\n",
              "</table>\n",
              "</div>"
            ],
            "text/plain": [
              "      START_DATE*       END_DATE*  ... MILES*         PURPOSE*\n",
              "0  1/1/2016 21:11  1/1/2016 21:17  ...    5.1   Meal/Entertain\n",
              "1   1/2/2016 1:25   1/2/2016 1:37  ...    5.0              NaN\n",
              "2  1/2/2016 20:25  1/2/2016 20:38  ...    4.8  Errand/Supplies\n",
              "3  1/5/2016 17:31  1/5/2016 17:45  ...    4.7          Meeting\n",
              "4  1/6/2016 14:42  1/6/2016 15:49  ...   63.7   Customer Visit\n",
              "\n",
              "[5 rows x 7 columns]"
            ]
          },
          "metadata": {
            "tags": []
          },
          "execution_count": 59
        }
      ]
    },
    {
      "cell_type": "markdown",
      "metadata": {
        "id": "WHx-8snzTY0f",
        "colab_type": "text"
      },
      "source": [
        "Dataset type  information"
      ]
    },
    {
      "cell_type": "code",
      "metadata": {
        "id": "jrOJuFiGmE9z",
        "colab_type": "code",
        "colab": {
          "base_uri": "https://localhost:8080/",
          "height": 252
        },
        "outputId": "086bd653-8741-4442-ae8e-514ade9f23bc"
      },
      "source": [
        "data.info()"
      ],
      "execution_count": 60,
      "outputs": [
        {
          "output_type": "stream",
          "text": [
            "<class 'pandas.core.frame.DataFrame'>\n",
            "RangeIndex: 1156 entries, 0 to 1155\n",
            "Data columns (total 7 columns):\n",
            " #   Column       Non-Null Count  Dtype  \n",
            "---  ------       --------------  -----  \n",
            " 0   START_DATE*  1156 non-null   object \n",
            " 1   END_DATE*    1155 non-null   object \n",
            " 2   CATEGORY*    1155 non-null   object \n",
            " 3   START*       1155 non-null   object \n",
            " 4   STOP*        1155 non-null   object \n",
            " 5   MILES*       1156 non-null   float64\n",
            " 6   PURPOSE*     653 non-null    object \n",
            "dtypes: float64(1), object(6)\n",
            "memory usage: 63.3+ KB\n"
          ],
          "name": "stdout"
        }
      ]
    },
    {
      "cell_type": "code",
      "metadata": {
        "id": "Ta4k-2eEmE_7",
        "colab_type": "code",
        "colab": {
          "base_uri": "https://localhost:8080/",
          "height": 151
        },
        "outputId": "fdd34b89-4a08-4be5-8d2f-45e8550b84b0"
      },
      "source": [
        "data.count()"
      ],
      "execution_count": 61,
      "outputs": [
        {
          "output_type": "execute_result",
          "data": {
            "text/plain": [
              "START_DATE*    1156\n",
              "END_DATE*      1155\n",
              "CATEGORY*      1155\n",
              "START*         1155\n",
              "STOP*          1155\n",
              "MILES*         1156\n",
              "PURPOSE*        653\n",
              "dtype: int64"
            ]
          },
          "metadata": {
            "tags": []
          },
          "execution_count": 61
        }
      ]
    },
    {
      "cell_type": "markdown",
      "metadata": {
        "id": "7q8uLl63TeJQ",
        "colab_type": "text"
      },
      "source": [
        "Dataset description"
      ]
    },
    {
      "cell_type": "code",
      "metadata": {
        "id": "DQ2C8eRlmFDL",
        "colab_type": "code",
        "colab": {
          "base_uri": "https://localhost:8080/",
          "height": 284
        },
        "outputId": "af0b5e12-0bdc-4d18-c979-278cd245f4d9"
      },
      "source": [
        "data.describe()"
      ],
      "execution_count": 62,
      "outputs": [
        {
          "output_type": "execute_result",
          "data": {
            "text/html": [
              "<div>\n",
              "<style scoped>\n",
              "    .dataframe tbody tr th:only-of-type {\n",
              "        vertical-align: middle;\n",
              "    }\n",
              "\n",
              "    .dataframe tbody tr th {\n",
              "        vertical-align: top;\n",
              "    }\n",
              "\n",
              "    .dataframe thead th {\n",
              "        text-align: right;\n",
              "    }\n",
              "</style>\n",
              "<table border=\"1\" class=\"dataframe\">\n",
              "  <thead>\n",
              "    <tr style=\"text-align: right;\">\n",
              "      <th></th>\n",
              "      <th>MILES*</th>\n",
              "    </tr>\n",
              "  </thead>\n",
              "  <tbody>\n",
              "    <tr>\n",
              "      <th>count</th>\n",
              "      <td>1156.000000</td>\n",
              "    </tr>\n",
              "    <tr>\n",
              "      <th>mean</th>\n",
              "      <td>21.115398</td>\n",
              "    </tr>\n",
              "    <tr>\n",
              "      <th>std</th>\n",
              "      <td>359.299007</td>\n",
              "    </tr>\n",
              "    <tr>\n",
              "      <th>min</th>\n",
              "      <td>0.500000</td>\n",
              "    </tr>\n",
              "    <tr>\n",
              "      <th>25%</th>\n",
              "      <td>2.900000</td>\n",
              "    </tr>\n",
              "    <tr>\n",
              "      <th>50%</th>\n",
              "      <td>6.000000</td>\n",
              "    </tr>\n",
              "    <tr>\n",
              "      <th>75%</th>\n",
              "      <td>10.400000</td>\n",
              "    </tr>\n",
              "    <tr>\n",
              "      <th>max</th>\n",
              "      <td>12204.700000</td>\n",
              "    </tr>\n",
              "  </tbody>\n",
              "</table>\n",
              "</div>"
            ],
            "text/plain": [
              "             MILES*\n",
              "count   1156.000000\n",
              "mean      21.115398\n",
              "std      359.299007\n",
              "min        0.500000\n",
              "25%        2.900000\n",
              "50%        6.000000\n",
              "75%       10.400000\n",
              "max    12204.700000"
            ]
          },
          "metadata": {
            "tags": []
          },
          "execution_count": 62
        }
      ]
    },
    {
      "cell_type": "markdown",
      "metadata": {
        "id": "jTJ1EAFkTipg",
        "colab_type": "text"
      },
      "source": [
        "# Data Cleaning"
      ]
    },
    {
      "cell_type": "code",
      "metadata": {
        "id": "qnMAih-SoKeI",
        "colab_type": "code",
        "colab": {
          "base_uri": "https://localhost:8080/",
          "height": 151
        },
        "outputId": "df7bd573-2798-4d36-c15d-bd4343507f62"
      },
      "source": [
        "data.isnull().any()"
      ],
      "execution_count": 63,
      "outputs": [
        {
          "output_type": "execute_result",
          "data": {
            "text/plain": [
              "START_DATE*    False\n",
              "END_DATE*       True\n",
              "CATEGORY*       True\n",
              "START*          True\n",
              "STOP*           True\n",
              "MILES*         False\n",
              "PURPOSE*        True\n",
              "dtype: bool"
            ]
          },
          "metadata": {
            "tags": []
          },
          "execution_count": 63
        }
      ]
    },
    {
      "cell_type": "code",
      "metadata": {
        "id": "oFa6H6wAIEmK",
        "colab_type": "code",
        "colab": {
          "base_uri": "https://localhost:8080/",
          "height": 218
        },
        "outputId": "8b638b2d-688f-4aa7-ac07-25e63b5412ab"
      },
      "source": [
        "data[\"START_DATE*\"]"
      ],
      "execution_count": 64,
      "outputs": [
        {
          "output_type": "execute_result",
          "data": {
            "text/plain": [
              "0         1/1/2016 21:11\n",
              "1          1/2/2016 1:25\n",
              "2         1/2/2016 20:25\n",
              "3         1/5/2016 17:31\n",
              "4         1/6/2016 14:42\n",
              "              ...       \n",
              "1151    12/31/2016 13:24\n",
              "1152    12/31/2016 15:03\n",
              "1153    12/31/2016 21:32\n",
              "1154    12/31/2016 22:08\n",
              "1155              Totals\n",
              "Name: START_DATE*, Length: 1156, dtype: object"
            ]
          },
          "metadata": {
            "tags": []
          },
          "execution_count": 64
        }
      ]
    },
    {
      "cell_type": "markdown",
      "metadata": {
        "id": "Q5uKCSquTn4u",
        "colab_type": "text"
      },
      "source": [
        "1155 row is droped because it is of no use"
      ]
    },
    {
      "cell_type": "code",
      "metadata": {
        "id": "YIZXCeQnRjMK",
        "colab_type": "code",
        "colab": {}
      },
      "source": [
        "data = data.drop([1155])"
      ],
      "execution_count": 65,
      "outputs": []
    },
    {
      "cell_type": "markdown",
      "metadata": {
        "id": "bYgYH5_KTxEQ",
        "colab_type": "text"
      },
      "source": [
        "Dataset after drops out the row"
      ]
    },
    {
      "cell_type": "code",
      "metadata": {
        "id": "0b2RVvAaRvJb",
        "colab_type": "code",
        "colab": {
          "base_uri": "https://localhost:8080/",
          "height": 218
        },
        "outputId": "85db81ae-1f0a-4489-b13a-7f24ae3492d5"
      },
      "source": [
        "data[\"START_DATE*\"]"
      ],
      "execution_count": 66,
      "outputs": [
        {
          "output_type": "execute_result",
          "data": {
            "text/plain": [
              "0         1/1/2016 21:11\n",
              "1          1/2/2016 1:25\n",
              "2         1/2/2016 20:25\n",
              "3         1/5/2016 17:31\n",
              "4         1/6/2016 14:42\n",
              "              ...       \n",
              "1150     12/31/2016 1:07\n",
              "1151    12/31/2016 13:24\n",
              "1152    12/31/2016 15:03\n",
              "1153    12/31/2016 21:32\n",
              "1154    12/31/2016 22:08\n",
              "Name: START_DATE*, Length: 1155, dtype: object"
            ]
          },
          "metadata": {
            "tags": []
          },
          "execution_count": 66
        }
      ]
    },
    {
      "cell_type": "markdown",
      "metadata": {
        "id": "sgJlaewCT7Cq",
        "colab_type": "text"
      },
      "source": [
        "datetime module for datetime function"
      ]
    },
    {
      "cell_type": "code",
      "metadata": {
        "id": "AIN8qaWdIEqq",
        "colab_type": "code",
        "colab": {}
      },
      "source": [
        "from datetime import  datetime"
      ],
      "execution_count": 67,
      "outputs": []
    },
    {
      "cell_type": "code",
      "metadata": {
        "id": "GZxEOd0OQ2XK",
        "colab_type": "code",
        "colab": {}
      },
      "source": [
        ""
      ],
      "execution_count": null,
      "outputs": []
    },
    {
      "cell_type": "markdown",
      "metadata": {
        "id": "8Q6PRO_wUDyS",
        "colab_type": "text"
      },
      "source": [
        "STRAT_TIME* Column data type is changed from object to datetime64 "
      ]
    },
    {
      "cell_type": "code",
      "metadata": {
        "id": "KcHm54LIIEx8",
        "colab_type": "code",
        "colab": {}
      },
      "source": [
        " data[\"START_DATE*\"] = pd.to_datetime(data[\"START_DATE*\"] )"
      ],
      "execution_count": 68,
      "outputs": []
    },
    {
      "cell_type": "code",
      "metadata": {
        "id": "g_urb8g2IE0K",
        "colab_type": "code",
        "colab": {
          "base_uri": "https://localhost:8080/",
          "height": 252
        },
        "outputId": "7dabb88f-113d-43d3-be07-afc759e200b0"
      },
      "source": [
        "data.info()"
      ],
      "execution_count": 69,
      "outputs": [
        {
          "output_type": "stream",
          "text": [
            "<class 'pandas.core.frame.DataFrame'>\n",
            "Int64Index: 1155 entries, 0 to 1154\n",
            "Data columns (total 7 columns):\n",
            " #   Column       Non-Null Count  Dtype         \n",
            "---  ------       --------------  -----         \n",
            " 0   START_DATE*  1155 non-null   datetime64[ns]\n",
            " 1   END_DATE*    1155 non-null   object        \n",
            " 2   CATEGORY*    1155 non-null   object        \n",
            " 3   START*       1155 non-null   object        \n",
            " 4   STOP*        1155 non-null   object        \n",
            " 5   MILES*       1155 non-null   float64       \n",
            " 6   PURPOSE*     653 non-null    object        \n",
            "dtypes: datetime64[ns](1), float64(1), object(5)\n",
            "memory usage: 72.2+ KB\n"
          ],
          "name": "stdout"
        }
      ]
    },
    {
      "cell_type": "code",
      "metadata": {
        "id": "7YrmG59zIE2X",
        "colab_type": "code",
        "colab": {
          "base_uri": "https://localhost:8080/",
          "height": 151
        },
        "outputId": "dac96cfc-1b38-4c7a-a1c3-eaed3c810765"
      },
      "source": [
        "data.count()"
      ],
      "execution_count": 70,
      "outputs": [
        {
          "output_type": "execute_result",
          "data": {
            "text/plain": [
              "START_DATE*    1155\n",
              "END_DATE*      1155\n",
              "CATEGORY*      1155\n",
              "START*         1155\n",
              "STOP*          1155\n",
              "MILES*         1155\n",
              "PURPOSE*        653\n",
              "dtype: int64"
            ]
          },
          "metadata": {
            "tags": []
          },
          "execution_count": 70
        }
      ]
    },
    {
      "cell_type": "code",
      "metadata": {
        "id": "Ng6427lCIE4o",
        "colab_type": "code",
        "colab": {
          "base_uri": "https://localhost:8080/",
          "height": 218
        },
        "outputId": "c04702aa-10cb-43e8-87da-bf68e12c2dc4"
      },
      "source": [
        " data[\"START_DATE*\"]  "
      ],
      "execution_count": 71,
      "outputs": [
        {
          "output_type": "execute_result",
          "data": {
            "text/plain": [
              "0      2016-01-01 21:11:00\n",
              "1      2016-01-02 01:25:00\n",
              "2      2016-01-02 20:25:00\n",
              "3      2016-01-05 17:31:00\n",
              "4      2016-01-06 14:42:00\n",
              "               ...        \n",
              "1150   2016-12-31 01:07:00\n",
              "1151   2016-12-31 13:24:00\n",
              "1152   2016-12-31 15:03:00\n",
              "1153   2016-12-31 21:32:00\n",
              "1154   2016-12-31 22:08:00\n",
              "Name: START_DATE*, Length: 1155, dtype: datetime64[ns]"
            ]
          },
          "metadata": {
            "tags": []
          },
          "execution_count": 71
        }
      ]
    },
    {
      "cell_type": "markdown",
      "metadata": {
        "id": "BreoBb1eUb_w",
        "colab_type": "text"
      },
      "source": [
        "Hour Dataframe"
      ]
    },
    {
      "cell_type": "code",
      "metadata": {
        "id": "jRvFdy8EIE8B",
        "colab_type": "code",
        "colab": {}
      },
      "source": [
        "  start_hour = data[\"START_DATE*\"].dt.hour"
      ],
      "execution_count": 72,
      "outputs": []
    },
    {
      "cell_type": "code",
      "metadata": {
        "id": "TR6RT0XtIDOg",
        "colab_type": "code",
        "colab": {
          "base_uri": "https://localhost:8080/",
          "height": 218
        },
        "outputId": "c6dc846e-dafb-4fff-894f-13a0e2a9df7d"
      },
      "source": [
        "start_hour"
      ],
      "execution_count": 73,
      "outputs": [
        {
          "output_type": "execute_result",
          "data": {
            "text/plain": [
              "0       21\n",
              "1        1\n",
              "2       20\n",
              "3       17\n",
              "4       14\n",
              "        ..\n",
              "1150     1\n",
              "1151    13\n",
              "1152    15\n",
              "1153    21\n",
              "1154    22\n",
              "Name: START_DATE*, Length: 1155, dtype: int64"
            ]
          },
          "metadata": {
            "tags": []
          },
          "execution_count": 73
        }
      ]
    },
    {
      "cell_type": "markdown",
      "metadata": {
        "id": "Pg2nrmTrUlVM",
        "colab_type": "text"
      },
      "source": [
        "Minute Dataframe"
      ]
    },
    {
      "cell_type": "code",
      "metadata": {
        "id": "YvYv8mxhIDRL",
        "colab_type": "code",
        "colab": {}
      },
      "source": [
        "start_minute = data[\"START_DATE*\"].dt.minute"
      ],
      "execution_count": 95,
      "outputs": []
    },
    {
      "cell_type": "code",
      "metadata": {
        "id": "wrbTEpTVVj_a",
        "colab_type": "code",
        "colab": {
          "base_uri": "https://localhost:8080/",
          "height": 34
        },
        "outputId": "003b6b27-d9bf-413e-9db7-6d353c306b1a"
      },
      "source": [
        "type(start_minute)"
      ],
      "execution_count": 96,
      "outputs": [
        {
          "output_type": "execute_result",
          "data": {
            "text/plain": [
              "pandas.core.series.Series"
            ]
          },
          "metadata": {
            "tags": []
          },
          "execution_count": 96
        }
      ]
    },
    {
      "cell_type": "code",
      "metadata": {
        "id": "GcjmHmkiWqVQ",
        "colab_type": "code",
        "colab": {}
      },
      "source": [
        ""
      ],
      "execution_count": 93,
      "outputs": []
    },
    {
      "cell_type": "code",
      "metadata": {
        "id": "tElj23-xIDUb",
        "colab_type": "code",
        "colab": {
          "base_uri": "https://localhost:8080/",
          "height": 218
        },
        "outputId": "8d3d6bcb-ae8f-4c45-98b0-e66f51f74a6b"
      },
      "source": [
        "start_minute"
      ],
      "execution_count": 97,
      "outputs": [
        {
          "output_type": "execute_result",
          "data": {
            "text/plain": [
              "0       11\n",
              "1       25\n",
              "2       25\n",
              "3       31\n",
              "4       42\n",
              "        ..\n",
              "1150     7\n",
              "1151    24\n",
              "1152     3\n",
              "1153    32\n",
              "1154     8\n",
              "Name: START_DATE*, Length: 1155, dtype: int64"
            ]
          },
          "metadata": {
            "tags": []
          },
          "execution_count": 97
        }
      ]
    }
  ]
}