{
  "nbformat": 4,
  "nbformat_minor": 0,
  "metadata": {
    "colab": {
      "name": "Welcome To Colaboratory",
      "provenance": [],
      "collapsed_sections": [],
      "toc_visible": true,
      "include_colab_link": true
    },
    "kernelspec": {
      "display_name": "Python 3",
      "name": "python3"
    }
  },
  "cells": [
    {
      "cell_type": "markdown",
      "metadata": {
        "id": "view-in-github",
        "colab_type": "text"
      },
      "source": [
        "<a href=\"https://colab.research.google.com/github/nath229/My-first-Github-project-with-Eckovation/blob/master/uber_ML.ipynb\" target=\"_parent\"><img src=\"https://colab.research.google.com/assets/colab-badge.svg\" alt=\"Open In Colab\"/></a>"
      ]
    },
    {
      "cell_type": "code",
      "metadata": {
        "id": "TdmEub-xmE1j",
        "colab_type": "code",
        "colab": {}
      },
      "source": [
        ""
      ],
      "execution_count": 327,
      "outputs": []
    },
    {
      "cell_type": "markdown",
      "metadata": {
        "id": "AYXiElFzmc-y",
        "colab_type": "text"
      },
      "source": [
        "# Topic: Analyze UBER Data in Python Using Machine Learning."
      ]
    },
    {
      "cell_type": "code",
      "metadata": {
        "id": "oD5k5EKlmE4V",
        "colab_type": "code",
        "colab": {}
      },
      "source": [
        "import pandas as pd\n"
      ],
      "execution_count": 328,
      "outputs": []
    },
    {
      "cell_type": "code",
      "metadata": {
        "id": "okaJ9Z1zmE6M",
        "colab_type": "code",
        "colab": {}
      },
      "source": [
        "data = pd.read_csv('/content/uber_dataset.csv')"
      ],
      "execution_count": 329,
      "outputs": []
    },
    {
      "cell_type": "code",
      "metadata": {
        "id": "lLxP6WS11xY9",
        "colab_type": "code",
        "colab": {}
      },
      "source": [
        "data_copy = data.copy()"
      ],
      "execution_count": 330,
      "outputs": []
    },
    {
      "cell_type": "code",
      "metadata": {
        "id": "nqRl28wd136Y",
        "colab_type": "code",
        "colab": {
          "base_uri": "https://localhost:8080/",
          "height": 195
        },
        "outputId": "258a0ff6-f3e1-467b-e01f-2c62e1a55520"
      },
      "source": [
        "data_copy.head()"
      ],
      "execution_count": 331,
      "outputs": [
        {
          "output_type": "execute_result",
          "data": {
            "text/html": [
              "<div>\n",
              "<style scoped>\n",
              "    .dataframe tbody tr th:only-of-type {\n",
              "        vertical-align: middle;\n",
              "    }\n",
              "\n",
              "    .dataframe tbody tr th {\n",
              "        vertical-align: top;\n",
              "    }\n",
              "\n",
              "    .dataframe thead th {\n",
              "        text-align: right;\n",
              "    }\n",
              "</style>\n",
              "<table border=\"1\" class=\"dataframe\">\n",
              "  <thead>\n",
              "    <tr style=\"text-align: right;\">\n",
              "      <th></th>\n",
              "      <th>START_DATE*</th>\n",
              "      <th>END_DATE*</th>\n",
              "      <th>CATEGORY*</th>\n",
              "      <th>START*</th>\n",
              "      <th>STOP*</th>\n",
              "      <th>MILES*</th>\n",
              "      <th>PURPOSE*</th>\n",
              "    </tr>\n",
              "  </thead>\n",
              "  <tbody>\n",
              "    <tr>\n",
              "      <th>0</th>\n",
              "      <td>1/1/2016 21:11</td>\n",
              "      <td>1/1/2016 21:17</td>\n",
              "      <td>Business</td>\n",
              "      <td>Fort Pierce</td>\n",
              "      <td>Fort Pierce</td>\n",
              "      <td>5.1</td>\n",
              "      <td>Meal/Entertain</td>\n",
              "    </tr>\n",
              "    <tr>\n",
              "      <th>1</th>\n",
              "      <td>1/2/2016 1:25</td>\n",
              "      <td>1/2/2016 1:37</td>\n",
              "      <td>Business</td>\n",
              "      <td>Fort Pierce</td>\n",
              "      <td>Fort Pierce</td>\n",
              "      <td>5.0</td>\n",
              "      <td>NaN</td>\n",
              "    </tr>\n",
              "    <tr>\n",
              "      <th>2</th>\n",
              "      <td>1/2/2016 20:25</td>\n",
              "      <td>1/2/2016 20:38</td>\n",
              "      <td>Business</td>\n",
              "      <td>Fort Pierce</td>\n",
              "      <td>Fort Pierce</td>\n",
              "      <td>4.8</td>\n",
              "      <td>Errand/Supplies</td>\n",
              "    </tr>\n",
              "    <tr>\n",
              "      <th>3</th>\n",
              "      <td>1/5/2016 17:31</td>\n",
              "      <td>1/5/2016 17:45</td>\n",
              "      <td>Business</td>\n",
              "      <td>Fort Pierce</td>\n",
              "      <td>Fort Pierce</td>\n",
              "      <td>4.7</td>\n",
              "      <td>Meeting</td>\n",
              "    </tr>\n",
              "    <tr>\n",
              "      <th>4</th>\n",
              "      <td>1/6/2016 14:42</td>\n",
              "      <td>1/6/2016 15:49</td>\n",
              "      <td>Business</td>\n",
              "      <td>Fort Pierce</td>\n",
              "      <td>West Palm Beach</td>\n",
              "      <td>63.7</td>\n",
              "      <td>Customer Visit</td>\n",
              "    </tr>\n",
              "  </tbody>\n",
              "</table>\n",
              "</div>"
            ],
            "text/plain": [
              "      START_DATE*       END_DATE*  ... MILES*         PURPOSE*\n",
              "0  1/1/2016 21:11  1/1/2016 21:17  ...    5.1   Meal/Entertain\n",
              "1   1/2/2016 1:25   1/2/2016 1:37  ...    5.0              NaN\n",
              "2  1/2/2016 20:25  1/2/2016 20:38  ...    4.8  Errand/Supplies\n",
              "3  1/5/2016 17:31  1/5/2016 17:45  ...    4.7          Meeting\n",
              "4  1/6/2016 14:42  1/6/2016 15:49  ...   63.7   Customer Visit\n",
              "\n",
              "[5 rows x 7 columns]"
            ]
          },
          "metadata": {
            "tags": []
          },
          "execution_count": 331
        }
      ]
    },
    {
      "cell_type": "markdown",
      "metadata": {
        "id": "NXOsn66ITTmI",
        "colab_type": "text"
      },
      "source": [
        "Dataset samples"
      ]
    },
    {
      "cell_type": "code",
      "metadata": {
        "id": "Y8jALEyRmE8C",
        "colab_type": "code",
        "colab": {
          "base_uri": "https://localhost:8080/",
          "height": 195
        },
        "outputId": "d195f877-5b67-41da-a7b5-6c1e58d7cb54"
      },
      "source": [
        "data.head()"
      ],
      "execution_count": 332,
      "outputs": [
        {
          "output_type": "execute_result",
          "data": {
            "text/html": [
              "<div>\n",
              "<style scoped>\n",
              "    .dataframe tbody tr th:only-of-type {\n",
              "        vertical-align: middle;\n",
              "    }\n",
              "\n",
              "    .dataframe tbody tr th {\n",
              "        vertical-align: top;\n",
              "    }\n",
              "\n",
              "    .dataframe thead th {\n",
              "        text-align: right;\n",
              "    }\n",
              "</style>\n",
              "<table border=\"1\" class=\"dataframe\">\n",
              "  <thead>\n",
              "    <tr style=\"text-align: right;\">\n",
              "      <th></th>\n",
              "      <th>START_DATE*</th>\n",
              "      <th>END_DATE*</th>\n",
              "      <th>CATEGORY*</th>\n",
              "      <th>START*</th>\n",
              "      <th>STOP*</th>\n",
              "      <th>MILES*</th>\n",
              "      <th>PURPOSE*</th>\n",
              "    </tr>\n",
              "  </thead>\n",
              "  <tbody>\n",
              "    <tr>\n",
              "      <th>0</th>\n",
              "      <td>1/1/2016 21:11</td>\n",
              "      <td>1/1/2016 21:17</td>\n",
              "      <td>Business</td>\n",
              "      <td>Fort Pierce</td>\n",
              "      <td>Fort Pierce</td>\n",
              "      <td>5.1</td>\n",
              "      <td>Meal/Entertain</td>\n",
              "    </tr>\n",
              "    <tr>\n",
              "      <th>1</th>\n",
              "      <td>1/2/2016 1:25</td>\n",
              "      <td>1/2/2016 1:37</td>\n",
              "      <td>Business</td>\n",
              "      <td>Fort Pierce</td>\n",
              "      <td>Fort Pierce</td>\n",
              "      <td>5.0</td>\n",
              "      <td>NaN</td>\n",
              "    </tr>\n",
              "    <tr>\n",
              "      <th>2</th>\n",
              "      <td>1/2/2016 20:25</td>\n",
              "      <td>1/2/2016 20:38</td>\n",
              "      <td>Business</td>\n",
              "      <td>Fort Pierce</td>\n",
              "      <td>Fort Pierce</td>\n",
              "      <td>4.8</td>\n",
              "      <td>Errand/Supplies</td>\n",
              "    </tr>\n",
              "    <tr>\n",
              "      <th>3</th>\n",
              "      <td>1/5/2016 17:31</td>\n",
              "      <td>1/5/2016 17:45</td>\n",
              "      <td>Business</td>\n",
              "      <td>Fort Pierce</td>\n",
              "      <td>Fort Pierce</td>\n",
              "      <td>4.7</td>\n",
              "      <td>Meeting</td>\n",
              "    </tr>\n",
              "    <tr>\n",
              "      <th>4</th>\n",
              "      <td>1/6/2016 14:42</td>\n",
              "      <td>1/6/2016 15:49</td>\n",
              "      <td>Business</td>\n",
              "      <td>Fort Pierce</td>\n",
              "      <td>West Palm Beach</td>\n",
              "      <td>63.7</td>\n",
              "      <td>Customer Visit</td>\n",
              "    </tr>\n",
              "  </tbody>\n",
              "</table>\n",
              "</div>"
            ],
            "text/plain": [
              "      START_DATE*       END_DATE*  ... MILES*         PURPOSE*\n",
              "0  1/1/2016 21:11  1/1/2016 21:17  ...    5.1   Meal/Entertain\n",
              "1   1/2/2016 1:25   1/2/2016 1:37  ...    5.0              NaN\n",
              "2  1/2/2016 20:25  1/2/2016 20:38  ...    4.8  Errand/Supplies\n",
              "3  1/5/2016 17:31  1/5/2016 17:45  ...    4.7          Meeting\n",
              "4  1/6/2016 14:42  1/6/2016 15:49  ...   63.7   Customer Visit\n",
              "\n",
              "[5 rows x 7 columns]"
            ]
          },
          "metadata": {
            "tags": []
          },
          "execution_count": 332
        }
      ]
    },
    {
      "cell_type": "markdown",
      "metadata": {
        "id": "WHx-8snzTY0f",
        "colab_type": "text"
      },
      "source": [
        "Dataset type  information"
      ]
    },
    {
      "cell_type": "code",
      "metadata": {
        "id": "jrOJuFiGmE9z",
        "colab_type": "code",
        "colab": {
          "base_uri": "https://localhost:8080/",
          "height": 252
        },
        "outputId": "ab430dd9-6673-43dd-ca90-4614d49cd2ab"
      },
      "source": [
        "data.info()"
      ],
      "execution_count": 333,
      "outputs": [
        {
          "output_type": "stream",
          "text": [
            "<class 'pandas.core.frame.DataFrame'>\n",
            "RangeIndex: 1156 entries, 0 to 1155\n",
            "Data columns (total 7 columns):\n",
            " #   Column       Non-Null Count  Dtype  \n",
            "---  ------       --------------  -----  \n",
            " 0   START_DATE*  1156 non-null   object \n",
            " 1   END_DATE*    1155 non-null   object \n",
            " 2   CATEGORY*    1155 non-null   object \n",
            " 3   START*       1155 non-null   object \n",
            " 4   STOP*        1155 non-null   object \n",
            " 5   MILES*       1156 non-null   float64\n",
            " 6   PURPOSE*     653 non-null    object \n",
            "dtypes: float64(1), object(6)\n",
            "memory usage: 63.3+ KB\n"
          ],
          "name": "stdout"
        }
      ]
    },
    {
      "cell_type": "code",
      "metadata": {
        "id": "Ta4k-2eEmE_7",
        "colab_type": "code",
        "colab": {
          "base_uri": "https://localhost:8080/",
          "height": 151
        },
        "outputId": "9dbd2d34-ede5-4432-bbee-da5e4309528a"
      },
      "source": [
        "data.count()"
      ],
      "execution_count": 334,
      "outputs": [
        {
          "output_type": "execute_result",
          "data": {
            "text/plain": [
              "START_DATE*    1156\n",
              "END_DATE*      1155\n",
              "CATEGORY*      1155\n",
              "START*         1155\n",
              "STOP*          1155\n",
              "MILES*         1156\n",
              "PURPOSE*        653\n",
              "dtype: int64"
            ]
          },
          "metadata": {
            "tags": []
          },
          "execution_count": 334
        }
      ]
    },
    {
      "cell_type": "markdown",
      "metadata": {
        "id": "7q8uLl63TeJQ",
        "colab_type": "text"
      },
      "source": [
        "Dataset description"
      ]
    },
    {
      "cell_type": "code",
      "metadata": {
        "id": "DQ2C8eRlmFDL",
        "colab_type": "code",
        "colab": {
          "base_uri": "https://localhost:8080/",
          "height": 284
        },
        "outputId": "b62d7ce8-03ce-443c-db73-adf825d5d3c7"
      },
      "source": [
        "data.describe()"
      ],
      "execution_count": 335,
      "outputs": [
        {
          "output_type": "execute_result",
          "data": {
            "text/html": [
              "<div>\n",
              "<style scoped>\n",
              "    .dataframe tbody tr th:only-of-type {\n",
              "        vertical-align: middle;\n",
              "    }\n",
              "\n",
              "    .dataframe tbody tr th {\n",
              "        vertical-align: top;\n",
              "    }\n",
              "\n",
              "    .dataframe thead th {\n",
              "        text-align: right;\n",
              "    }\n",
              "</style>\n",
              "<table border=\"1\" class=\"dataframe\">\n",
              "  <thead>\n",
              "    <tr style=\"text-align: right;\">\n",
              "      <th></th>\n",
              "      <th>MILES*</th>\n",
              "    </tr>\n",
              "  </thead>\n",
              "  <tbody>\n",
              "    <tr>\n",
              "      <th>count</th>\n",
              "      <td>1156.000000</td>\n",
              "    </tr>\n",
              "    <tr>\n",
              "      <th>mean</th>\n",
              "      <td>21.115398</td>\n",
              "    </tr>\n",
              "    <tr>\n",
              "      <th>std</th>\n",
              "      <td>359.299007</td>\n",
              "    </tr>\n",
              "    <tr>\n",
              "      <th>min</th>\n",
              "      <td>0.500000</td>\n",
              "    </tr>\n",
              "    <tr>\n",
              "      <th>25%</th>\n",
              "      <td>2.900000</td>\n",
              "    </tr>\n",
              "    <tr>\n",
              "      <th>50%</th>\n",
              "      <td>6.000000</td>\n",
              "    </tr>\n",
              "    <tr>\n",
              "      <th>75%</th>\n",
              "      <td>10.400000</td>\n",
              "    </tr>\n",
              "    <tr>\n",
              "      <th>max</th>\n",
              "      <td>12204.700000</td>\n",
              "    </tr>\n",
              "  </tbody>\n",
              "</table>\n",
              "</div>"
            ],
            "text/plain": [
              "             MILES*\n",
              "count   1156.000000\n",
              "mean      21.115398\n",
              "std      359.299007\n",
              "min        0.500000\n",
              "25%        2.900000\n",
              "50%        6.000000\n",
              "75%       10.400000\n",
              "max    12204.700000"
            ]
          },
          "metadata": {
            "tags": []
          },
          "execution_count": 335
        }
      ]
    },
    {
      "cell_type": "markdown",
      "metadata": {
        "id": "jTJ1EAFkTipg",
        "colab_type": "text"
      },
      "source": [
        "# Data Cleaning"
      ]
    },
    {
      "cell_type": "code",
      "metadata": {
        "id": "qnMAih-SoKeI",
        "colab_type": "code",
        "colab": {
          "base_uri": "https://localhost:8080/",
          "height": 151
        },
        "outputId": "a13ac413-253a-49a5-d715-60e402d9bc8b"
      },
      "source": [
        "data.isnull().any()"
      ],
      "execution_count": 336,
      "outputs": [
        {
          "output_type": "execute_result",
          "data": {
            "text/plain": [
              "START_DATE*    False\n",
              "END_DATE*       True\n",
              "CATEGORY*       True\n",
              "START*          True\n",
              "STOP*           True\n",
              "MILES*         False\n",
              "PURPOSE*        True\n",
              "dtype: bool"
            ]
          },
          "metadata": {
            "tags": []
          },
          "execution_count": 336
        }
      ]
    },
    {
      "cell_type": "code",
      "metadata": {
        "id": "oFa6H6wAIEmK",
        "colab_type": "code",
        "colab": {
          "base_uri": "https://localhost:8080/",
          "height": 218
        },
        "outputId": "0e729970-81d4-45ab-86f8-bb0052780f1c"
      },
      "source": [
        "data[\"START_DATE*\"]"
      ],
      "execution_count": 337,
      "outputs": [
        {
          "output_type": "execute_result",
          "data": {
            "text/plain": [
              "0         1/1/2016 21:11\n",
              "1          1/2/2016 1:25\n",
              "2         1/2/2016 20:25\n",
              "3         1/5/2016 17:31\n",
              "4         1/6/2016 14:42\n",
              "              ...       \n",
              "1151    12/31/2016 13:24\n",
              "1152    12/31/2016 15:03\n",
              "1153    12/31/2016 21:32\n",
              "1154    12/31/2016 22:08\n",
              "1155              Totals\n",
              "Name: START_DATE*, Length: 1156, dtype: object"
            ]
          },
          "metadata": {
            "tags": []
          },
          "execution_count": 337
        }
      ]
    },
    {
      "cell_type": "markdown",
      "metadata": {
        "id": "Q5uKCSquTn4u",
        "colab_type": "text"
      },
      "source": [
        "1155 row is droped because it is of no use"
      ]
    },
    {
      "cell_type": "code",
      "metadata": {
        "id": "YIZXCeQnRjMK",
        "colab_type": "code",
        "colab": {}
      },
      "source": [
        "data = data.drop([1155])"
      ],
      "execution_count": 338,
      "outputs": []
    },
    {
      "cell_type": "markdown",
      "metadata": {
        "id": "bYgYH5_KTxEQ",
        "colab_type": "text"
      },
      "source": [
        "Dataset after drops out the row"
      ]
    },
    {
      "cell_type": "code",
      "metadata": {
        "id": "0b2RVvAaRvJb",
        "colab_type": "code",
        "colab": {
          "base_uri": "https://localhost:8080/",
          "height": 218
        },
        "outputId": "261e8969-6936-4d60-d11e-f32a26dd066d"
      },
      "source": [
        "data[\"START_DATE*\"]"
      ],
      "execution_count": 339,
      "outputs": [
        {
          "output_type": "execute_result",
          "data": {
            "text/plain": [
              "0         1/1/2016 21:11\n",
              "1          1/2/2016 1:25\n",
              "2         1/2/2016 20:25\n",
              "3         1/5/2016 17:31\n",
              "4         1/6/2016 14:42\n",
              "              ...       \n",
              "1150     12/31/2016 1:07\n",
              "1151    12/31/2016 13:24\n",
              "1152    12/31/2016 15:03\n",
              "1153    12/31/2016 21:32\n",
              "1154    12/31/2016 22:08\n",
              "Name: START_DATE*, Length: 1155, dtype: object"
            ]
          },
          "metadata": {
            "tags": []
          },
          "execution_count": 339
        }
      ]
    },
    {
      "cell_type": "markdown",
      "metadata": {
        "id": "sgJlaewCT7Cq",
        "colab_type": "text"
      },
      "source": [
        "datetime module for datetime function"
      ]
    },
    {
      "cell_type": "code",
      "metadata": {
        "id": "AIN8qaWdIEqq",
        "colab_type": "code",
        "colab": {}
      },
      "source": [
        "from datetime import  datetime"
      ],
      "execution_count": 340,
      "outputs": []
    },
    {
      "cell_type": "code",
      "metadata": {
        "id": "GZxEOd0OQ2XK",
        "colab_type": "code",
        "colab": {}
      },
      "source": [
        ""
      ],
      "execution_count": 340,
      "outputs": []
    },
    {
      "cell_type": "markdown",
      "metadata": {
        "id": "8Q6PRO_wUDyS",
        "colab_type": "text"
      },
      "source": [
        "START_TIME* and END_TIME*Column data type is changed from object to datetime64 "
      ]
    },
    {
      "cell_type": "code",
      "metadata": {
        "id": "KcHm54LIIEx8",
        "colab_type": "code",
        "colab": {}
      },
      "source": [
        " data[\"START_DATE*\"] = pd.to_datetime(data[\"START_DATE*\"] )"
      ],
      "execution_count": 341,
      "outputs": []
    },
    {
      "cell_type": "code",
      "metadata": {
        "id": "zHY3-6Cm2h8c",
        "colab_type": "code",
        "colab": {}
      },
      "source": [
        "data['END_DATE*'] = pd.to_datetime(data['END_DATE*'] )"
      ],
      "execution_count": 342,
      "outputs": []
    },
    {
      "cell_type": "code",
      "metadata": {
        "id": "g_urb8g2IE0K",
        "colab_type": "code",
        "colab": {
          "base_uri": "https://localhost:8080/",
          "height": 252
        },
        "outputId": "8a579e39-47d4-4e18-a2f3-37f65f09277c"
      },
      "source": [
        "data.info()"
      ],
      "execution_count": 343,
      "outputs": [
        {
          "output_type": "stream",
          "text": [
            "<class 'pandas.core.frame.DataFrame'>\n",
            "Int64Index: 1155 entries, 0 to 1154\n",
            "Data columns (total 7 columns):\n",
            " #   Column       Non-Null Count  Dtype         \n",
            "---  ------       --------------  -----         \n",
            " 0   START_DATE*  1155 non-null   datetime64[ns]\n",
            " 1   END_DATE*    1155 non-null   datetime64[ns]\n",
            " 2   CATEGORY*    1155 non-null   object        \n",
            " 3   START*       1155 non-null   object        \n",
            " 4   STOP*        1155 non-null   object        \n",
            " 5   MILES*       1155 non-null   float64       \n",
            " 6   PURPOSE*     653 non-null    object        \n",
            "dtypes: datetime64[ns](2), float64(1), object(4)\n",
            "memory usage: 72.2+ KB\n"
          ],
          "name": "stdout"
        }
      ]
    },
    {
      "cell_type": "code",
      "metadata": {
        "id": "7YrmG59zIE2X",
        "colab_type": "code",
        "colab": {
          "base_uri": "https://localhost:8080/",
          "height": 151
        },
        "outputId": "518bcff9-c66e-4a85-cef6-eee7348c69e0"
      },
      "source": [
        "data.count()"
      ],
      "execution_count": 344,
      "outputs": [
        {
          "output_type": "execute_result",
          "data": {
            "text/plain": [
              "START_DATE*    1155\n",
              "END_DATE*      1155\n",
              "CATEGORY*      1155\n",
              "START*         1155\n",
              "STOP*          1155\n",
              "MILES*         1155\n",
              "PURPOSE*        653\n",
              "dtype: int64"
            ]
          },
          "metadata": {
            "tags": []
          },
          "execution_count": 344
        }
      ]
    },
    {
      "cell_type": "code",
      "metadata": {
        "id": "l6XqXXKz-OXU",
        "colab_type": "code",
        "colab": {
          "base_uri": "https://localhost:8080/",
          "height": 218
        },
        "outputId": "dcf5aa94-03a6-4d86-caf2-723a6d0600f8"
      },
      "source": [
        "data['END_DATE*'].dt.hour"
      ],
      "execution_count": 345,
      "outputs": [
        {
          "output_type": "execute_result",
          "data": {
            "text/plain": [
              "0       21\n",
              "1        1\n",
              "2       20\n",
              "3       17\n",
              "4       15\n",
              "        ..\n",
              "1150     1\n",
              "1151    13\n",
              "1152    15\n",
              "1153    21\n",
              "1154    23\n",
              "Name: END_DATE*, Length: 1155, dtype: int64"
            ]
          },
          "metadata": {
            "tags": []
          },
          "execution_count": 345
        }
      ]
    },
    {
      "cell_type": "markdown",
      "metadata": {
        "id": "eqscEXme3BmQ",
        "colab_type": "text"
      },
      "source": [
        "# Calculating the travelling time"
      ]
    },
    {
      "cell_type": "code",
      "metadata": {
        "id": "koT4HKJN4IGh",
        "colab_type": "code",
        "colab": {}
      },
      "source": [
        "travel_time = data['END_DATE*'] -  data[\"START_DATE*\"]\n"
      ],
      "execution_count": 346,
      "outputs": []
    },
    {
      "cell_type": "code",
      "metadata": {
        "id": "oAAzRJ8xApQc",
        "colab_type": "code",
        "colab": {}
      },
      "source": [
        "dataframe = travel_time.dt.seconds"
      ],
      "execution_count": 347,
      "outputs": []
    },
    {
      "cell_type": "markdown",
      "metadata": {
        "id": "ePjuEP1iDncV",
        "colab_type": "text"
      },
      "source": [
        "travel time in seconds"
      ]
    },
    {
      "cell_type": "code",
      "metadata": {
        "id": "ypNoOVxOAK0o",
        "colab_type": "code",
        "colab": {
          "base_uri": "https://localhost:8080/",
          "height": 34
        },
        "outputId": "b4958427-d906-4890-de27-b841871ebc8b"
      },
      "source": [
        "type(dataframe)"
      ],
      "execution_count": 348,
      "outputs": [
        {
          "output_type": "execute_result",
          "data": {
            "text/plain": [
              "pandas.core.series.Series"
            ]
          },
          "metadata": {
            "tags": []
          },
          "execution_count": 348
        }
      ]
    },
    {
      "cell_type": "code",
      "metadata": {
        "id": "wDI28KOJ4ILx",
        "colab_type": "code",
        "colab": {}
      },
      "source": [
        "data.insert(7,'travel_time',dataframe)"
      ],
      "execution_count": 349,
      "outputs": []
    },
    {
      "cell_type": "code",
      "metadata": {
        "id": "cPsD_hXM4ISJ",
        "colab_type": "code",
        "colab": {
          "base_uri": "https://localhost:8080/",
          "height": 343
        },
        "outputId": "e9292db7-c090-427e-b7c6-31ef95c6bb78"
      },
      "source": [
        "data.head(10)"
      ],
      "execution_count": 350,
      "outputs": [
        {
          "output_type": "execute_result",
          "data": {
            "text/html": [
              "<div>\n",
              "<style scoped>\n",
              "    .dataframe tbody tr th:only-of-type {\n",
              "        vertical-align: middle;\n",
              "    }\n",
              "\n",
              "    .dataframe tbody tr th {\n",
              "        vertical-align: top;\n",
              "    }\n",
              "\n",
              "    .dataframe thead th {\n",
              "        text-align: right;\n",
              "    }\n",
              "</style>\n",
              "<table border=\"1\" class=\"dataframe\">\n",
              "  <thead>\n",
              "    <tr style=\"text-align: right;\">\n",
              "      <th></th>\n",
              "      <th>START_DATE*</th>\n",
              "      <th>END_DATE*</th>\n",
              "      <th>CATEGORY*</th>\n",
              "      <th>START*</th>\n",
              "      <th>STOP*</th>\n",
              "      <th>MILES*</th>\n",
              "      <th>PURPOSE*</th>\n",
              "      <th>travel_time</th>\n",
              "    </tr>\n",
              "  </thead>\n",
              "  <tbody>\n",
              "    <tr>\n",
              "      <th>0</th>\n",
              "      <td>2016-01-01 21:11:00</td>\n",
              "      <td>2016-01-01 21:17:00</td>\n",
              "      <td>Business</td>\n",
              "      <td>Fort Pierce</td>\n",
              "      <td>Fort Pierce</td>\n",
              "      <td>5.1</td>\n",
              "      <td>Meal/Entertain</td>\n",
              "      <td>360</td>\n",
              "    </tr>\n",
              "    <tr>\n",
              "      <th>1</th>\n",
              "      <td>2016-01-02 01:25:00</td>\n",
              "      <td>2016-01-02 01:37:00</td>\n",
              "      <td>Business</td>\n",
              "      <td>Fort Pierce</td>\n",
              "      <td>Fort Pierce</td>\n",
              "      <td>5.0</td>\n",
              "      <td>NaN</td>\n",
              "      <td>720</td>\n",
              "    </tr>\n",
              "    <tr>\n",
              "      <th>2</th>\n",
              "      <td>2016-01-02 20:25:00</td>\n",
              "      <td>2016-01-02 20:38:00</td>\n",
              "      <td>Business</td>\n",
              "      <td>Fort Pierce</td>\n",
              "      <td>Fort Pierce</td>\n",
              "      <td>4.8</td>\n",
              "      <td>Errand/Supplies</td>\n",
              "      <td>780</td>\n",
              "    </tr>\n",
              "    <tr>\n",
              "      <th>3</th>\n",
              "      <td>2016-01-05 17:31:00</td>\n",
              "      <td>2016-01-05 17:45:00</td>\n",
              "      <td>Business</td>\n",
              "      <td>Fort Pierce</td>\n",
              "      <td>Fort Pierce</td>\n",
              "      <td>4.7</td>\n",
              "      <td>Meeting</td>\n",
              "      <td>840</td>\n",
              "    </tr>\n",
              "    <tr>\n",
              "      <th>4</th>\n",
              "      <td>2016-01-06 14:42:00</td>\n",
              "      <td>2016-01-06 15:49:00</td>\n",
              "      <td>Business</td>\n",
              "      <td>Fort Pierce</td>\n",
              "      <td>West Palm Beach</td>\n",
              "      <td>63.7</td>\n",
              "      <td>Customer Visit</td>\n",
              "      <td>4020</td>\n",
              "    </tr>\n",
              "    <tr>\n",
              "      <th>5</th>\n",
              "      <td>2016-01-06 17:15:00</td>\n",
              "      <td>2016-01-06 17:19:00</td>\n",
              "      <td>Business</td>\n",
              "      <td>West Palm Beach</td>\n",
              "      <td>West Palm Beach</td>\n",
              "      <td>4.3</td>\n",
              "      <td>Meal/Entertain</td>\n",
              "      <td>240</td>\n",
              "    </tr>\n",
              "    <tr>\n",
              "      <th>6</th>\n",
              "      <td>2016-01-06 17:30:00</td>\n",
              "      <td>2016-01-06 17:35:00</td>\n",
              "      <td>Business</td>\n",
              "      <td>West Palm Beach</td>\n",
              "      <td>Palm Beach</td>\n",
              "      <td>7.1</td>\n",
              "      <td>Meeting</td>\n",
              "      <td>300</td>\n",
              "    </tr>\n",
              "    <tr>\n",
              "      <th>7</th>\n",
              "      <td>2016-01-07 13:27:00</td>\n",
              "      <td>2016-01-07 13:33:00</td>\n",
              "      <td>Business</td>\n",
              "      <td>Cary</td>\n",
              "      <td>Cary</td>\n",
              "      <td>0.8</td>\n",
              "      <td>Meeting</td>\n",
              "      <td>360</td>\n",
              "    </tr>\n",
              "    <tr>\n",
              "      <th>8</th>\n",
              "      <td>2016-01-10 08:05:00</td>\n",
              "      <td>2016-01-10 08:25:00</td>\n",
              "      <td>Business</td>\n",
              "      <td>Cary</td>\n",
              "      <td>Morrisville</td>\n",
              "      <td>8.3</td>\n",
              "      <td>Meeting</td>\n",
              "      <td>1200</td>\n",
              "    </tr>\n",
              "    <tr>\n",
              "      <th>9</th>\n",
              "      <td>2016-01-10 12:17:00</td>\n",
              "      <td>2016-01-10 12:44:00</td>\n",
              "      <td>Business</td>\n",
              "      <td>Jamaica</td>\n",
              "      <td>New York</td>\n",
              "      <td>16.5</td>\n",
              "      <td>Customer Visit</td>\n",
              "      <td>1620</td>\n",
              "    </tr>\n",
              "  </tbody>\n",
              "</table>\n",
              "</div>"
            ],
            "text/plain": [
              "          START_DATE*           END_DATE*  ...         PURPOSE* travel_time\n",
              "0 2016-01-01 21:11:00 2016-01-01 21:17:00  ...   Meal/Entertain         360\n",
              "1 2016-01-02 01:25:00 2016-01-02 01:37:00  ...              NaN         720\n",
              "2 2016-01-02 20:25:00 2016-01-02 20:38:00  ...  Errand/Supplies         780\n",
              "3 2016-01-05 17:31:00 2016-01-05 17:45:00  ...          Meeting         840\n",
              "4 2016-01-06 14:42:00 2016-01-06 15:49:00  ...   Customer Visit        4020\n",
              "5 2016-01-06 17:15:00 2016-01-06 17:19:00  ...   Meal/Entertain         240\n",
              "6 2016-01-06 17:30:00 2016-01-06 17:35:00  ...          Meeting         300\n",
              "7 2016-01-07 13:27:00 2016-01-07 13:33:00  ...          Meeting         360\n",
              "8 2016-01-10 08:05:00 2016-01-10 08:25:00  ...          Meeting        1200\n",
              "9 2016-01-10 12:17:00 2016-01-10 12:44:00  ...   Customer Visit        1620\n",
              "\n",
              "[10 rows x 8 columns]"
            ]
          },
          "metadata": {
            "tags": []
          },
          "execution_count": 350
        }
      ]
    },
    {
      "cell_type": "markdown",
      "metadata": {
        "id": "CiG7edoU6-bW",
        "colab_type": "text"
      },
      "source": [
        "# Calculating the average speed of the trips"
      ]
    },
    {
      "cell_type": "code",
      "metadata": {
        "id": "3JhzmB2SCYbo",
        "colab_type": "code",
        "colab": {}
      },
      "source": [
        "data['travel_time'] = data['travel_time']/60"
      ],
      "execution_count": 351,
      "outputs": []
    },
    {
      "cell_type": "code",
      "metadata": {
        "id": "W2ggmy2fCwC_",
        "colab_type": "code",
        "colab": {
          "base_uri": "https://localhost:8080/",
          "height": 343
        },
        "outputId": "59bee4a4-1600-47cd-d9a5-04b82e2092c2"
      },
      "source": [
        "data.head(10)"
      ],
      "execution_count": 352,
      "outputs": [
        {
          "output_type": "execute_result",
          "data": {
            "text/html": [
              "<div>\n",
              "<style scoped>\n",
              "    .dataframe tbody tr th:only-of-type {\n",
              "        vertical-align: middle;\n",
              "    }\n",
              "\n",
              "    .dataframe tbody tr th {\n",
              "        vertical-align: top;\n",
              "    }\n",
              "\n",
              "    .dataframe thead th {\n",
              "        text-align: right;\n",
              "    }\n",
              "</style>\n",
              "<table border=\"1\" class=\"dataframe\">\n",
              "  <thead>\n",
              "    <tr style=\"text-align: right;\">\n",
              "      <th></th>\n",
              "      <th>START_DATE*</th>\n",
              "      <th>END_DATE*</th>\n",
              "      <th>CATEGORY*</th>\n",
              "      <th>START*</th>\n",
              "      <th>STOP*</th>\n",
              "      <th>MILES*</th>\n",
              "      <th>PURPOSE*</th>\n",
              "      <th>travel_time</th>\n",
              "    </tr>\n",
              "  </thead>\n",
              "  <tbody>\n",
              "    <tr>\n",
              "      <th>0</th>\n",
              "      <td>2016-01-01 21:11:00</td>\n",
              "      <td>2016-01-01 21:17:00</td>\n",
              "      <td>Business</td>\n",
              "      <td>Fort Pierce</td>\n",
              "      <td>Fort Pierce</td>\n",
              "      <td>5.1</td>\n",
              "      <td>Meal/Entertain</td>\n",
              "      <td>6.0</td>\n",
              "    </tr>\n",
              "    <tr>\n",
              "      <th>1</th>\n",
              "      <td>2016-01-02 01:25:00</td>\n",
              "      <td>2016-01-02 01:37:00</td>\n",
              "      <td>Business</td>\n",
              "      <td>Fort Pierce</td>\n",
              "      <td>Fort Pierce</td>\n",
              "      <td>5.0</td>\n",
              "      <td>NaN</td>\n",
              "      <td>12.0</td>\n",
              "    </tr>\n",
              "    <tr>\n",
              "      <th>2</th>\n",
              "      <td>2016-01-02 20:25:00</td>\n",
              "      <td>2016-01-02 20:38:00</td>\n",
              "      <td>Business</td>\n",
              "      <td>Fort Pierce</td>\n",
              "      <td>Fort Pierce</td>\n",
              "      <td>4.8</td>\n",
              "      <td>Errand/Supplies</td>\n",
              "      <td>13.0</td>\n",
              "    </tr>\n",
              "    <tr>\n",
              "      <th>3</th>\n",
              "      <td>2016-01-05 17:31:00</td>\n",
              "      <td>2016-01-05 17:45:00</td>\n",
              "      <td>Business</td>\n",
              "      <td>Fort Pierce</td>\n",
              "      <td>Fort Pierce</td>\n",
              "      <td>4.7</td>\n",
              "      <td>Meeting</td>\n",
              "      <td>14.0</td>\n",
              "    </tr>\n",
              "    <tr>\n",
              "      <th>4</th>\n",
              "      <td>2016-01-06 14:42:00</td>\n",
              "      <td>2016-01-06 15:49:00</td>\n",
              "      <td>Business</td>\n",
              "      <td>Fort Pierce</td>\n",
              "      <td>West Palm Beach</td>\n",
              "      <td>63.7</td>\n",
              "      <td>Customer Visit</td>\n",
              "      <td>67.0</td>\n",
              "    </tr>\n",
              "    <tr>\n",
              "      <th>5</th>\n",
              "      <td>2016-01-06 17:15:00</td>\n",
              "      <td>2016-01-06 17:19:00</td>\n",
              "      <td>Business</td>\n",
              "      <td>West Palm Beach</td>\n",
              "      <td>West Palm Beach</td>\n",
              "      <td>4.3</td>\n",
              "      <td>Meal/Entertain</td>\n",
              "      <td>4.0</td>\n",
              "    </tr>\n",
              "    <tr>\n",
              "      <th>6</th>\n",
              "      <td>2016-01-06 17:30:00</td>\n",
              "      <td>2016-01-06 17:35:00</td>\n",
              "      <td>Business</td>\n",
              "      <td>West Palm Beach</td>\n",
              "      <td>Palm Beach</td>\n",
              "      <td>7.1</td>\n",
              "      <td>Meeting</td>\n",
              "      <td>5.0</td>\n",
              "    </tr>\n",
              "    <tr>\n",
              "      <th>7</th>\n",
              "      <td>2016-01-07 13:27:00</td>\n",
              "      <td>2016-01-07 13:33:00</td>\n",
              "      <td>Business</td>\n",
              "      <td>Cary</td>\n",
              "      <td>Cary</td>\n",
              "      <td>0.8</td>\n",
              "      <td>Meeting</td>\n",
              "      <td>6.0</td>\n",
              "    </tr>\n",
              "    <tr>\n",
              "      <th>8</th>\n",
              "      <td>2016-01-10 08:05:00</td>\n",
              "      <td>2016-01-10 08:25:00</td>\n",
              "      <td>Business</td>\n",
              "      <td>Cary</td>\n",
              "      <td>Morrisville</td>\n",
              "      <td>8.3</td>\n",
              "      <td>Meeting</td>\n",
              "      <td>20.0</td>\n",
              "    </tr>\n",
              "    <tr>\n",
              "      <th>9</th>\n",
              "      <td>2016-01-10 12:17:00</td>\n",
              "      <td>2016-01-10 12:44:00</td>\n",
              "      <td>Business</td>\n",
              "      <td>Jamaica</td>\n",
              "      <td>New York</td>\n",
              "      <td>16.5</td>\n",
              "      <td>Customer Visit</td>\n",
              "      <td>27.0</td>\n",
              "    </tr>\n",
              "  </tbody>\n",
              "</table>\n",
              "</div>"
            ],
            "text/plain": [
              "          START_DATE*           END_DATE*  ...         PURPOSE* travel_time\n",
              "0 2016-01-01 21:11:00 2016-01-01 21:17:00  ...   Meal/Entertain         6.0\n",
              "1 2016-01-02 01:25:00 2016-01-02 01:37:00  ...              NaN        12.0\n",
              "2 2016-01-02 20:25:00 2016-01-02 20:38:00  ...  Errand/Supplies        13.0\n",
              "3 2016-01-05 17:31:00 2016-01-05 17:45:00  ...          Meeting        14.0\n",
              "4 2016-01-06 14:42:00 2016-01-06 15:49:00  ...   Customer Visit        67.0\n",
              "5 2016-01-06 17:15:00 2016-01-06 17:19:00  ...   Meal/Entertain         4.0\n",
              "6 2016-01-06 17:30:00 2016-01-06 17:35:00  ...          Meeting         5.0\n",
              "7 2016-01-07 13:27:00 2016-01-07 13:33:00  ...          Meeting         6.0\n",
              "8 2016-01-10 08:05:00 2016-01-10 08:25:00  ...          Meeting        20.0\n",
              "9 2016-01-10 12:17:00 2016-01-10 12:44:00  ...   Customer Visit        27.0\n",
              "\n",
              "[10 rows x 8 columns]"
            ]
          },
          "metadata": {
            "tags": []
          },
          "execution_count": 352
        }
      ]
    },
    {
      "cell_type": "code",
      "metadata": {
        "id": "mePKq78HCwF1",
        "colab_type": "code",
        "colab": {}
      },
      "source": [
        "avg_speed = data['MILES*']/data['travel_time']"
      ],
      "execution_count": 353,
      "outputs": []
    },
    {
      "cell_type": "markdown",
      "metadata": {
        "id": "4RsjPkqsDsHl",
        "colab_type": "text"
      },
      "source": [
        "avg speed miles/min"
      ]
    },
    {
      "cell_type": "code",
      "metadata": {
        "id": "gDd1BC_DCwIk",
        "colab_type": "code",
        "colab": {
          "base_uri": "https://localhost:8080/",
          "height": 202
        },
        "outputId": "a47f3ece-2be8-4d0f-a6e5-388153a17d7f"
      },
      "source": [
        "avg_speed.head(10)"
      ],
      "execution_count": 355,
      "outputs": [
        {
          "output_type": "execute_result",
          "data": {
            "text/plain": [
              "0    0.850000\n",
              "1    0.416667\n",
              "2    0.369231\n",
              "3    0.335714\n",
              "4    0.950746\n",
              "5    1.075000\n",
              "6    1.420000\n",
              "7    0.133333\n",
              "8    0.415000\n",
              "9    0.611111\n",
              "dtype: float64"
            ]
          },
          "metadata": {
            "tags": []
          },
          "execution_count": 355
        }
      ]
    },
    {
      "cell_type": "code",
      "metadata": {
        "id": "ON_ExB-cCYfU",
        "colab_type": "code",
        "colab": {}
      },
      "source": [
        "data.insert(8,'avg_speed_in_miles/min',avg_speed)"
      ],
      "execution_count": 356,
      "outputs": []
    },
    {
      "cell_type": "code",
      "metadata": {
        "id": "nAfXRkub2SIC",
        "colab_type": "code",
        "colab": {
          "base_uri": "https://localhost:8080/",
          "height": 343
        },
        "outputId": "293073e2-67dc-4b7d-8c0e-8a8d0013f0f1"
      },
      "source": [
        "data.head(10)"
      ],
      "execution_count": 357,
      "outputs": [
        {
          "output_type": "execute_result",
          "data": {
            "text/html": [
              "<div>\n",
              "<style scoped>\n",
              "    .dataframe tbody tr th:only-of-type {\n",
              "        vertical-align: middle;\n",
              "    }\n",
              "\n",
              "    .dataframe tbody tr th {\n",
              "        vertical-align: top;\n",
              "    }\n",
              "\n",
              "    .dataframe thead th {\n",
              "        text-align: right;\n",
              "    }\n",
              "</style>\n",
              "<table border=\"1\" class=\"dataframe\">\n",
              "  <thead>\n",
              "    <tr style=\"text-align: right;\">\n",
              "      <th></th>\n",
              "      <th>START_DATE*</th>\n",
              "      <th>END_DATE*</th>\n",
              "      <th>CATEGORY*</th>\n",
              "      <th>START*</th>\n",
              "      <th>STOP*</th>\n",
              "      <th>MILES*</th>\n",
              "      <th>PURPOSE*</th>\n",
              "      <th>travel_time</th>\n",
              "      <th>avg_speed_in_miles/min</th>\n",
              "    </tr>\n",
              "  </thead>\n",
              "  <tbody>\n",
              "    <tr>\n",
              "      <th>0</th>\n",
              "      <td>2016-01-01 21:11:00</td>\n",
              "      <td>2016-01-01 21:17:00</td>\n",
              "      <td>Business</td>\n",
              "      <td>Fort Pierce</td>\n",
              "      <td>Fort Pierce</td>\n",
              "      <td>5.1</td>\n",
              "      <td>Meal/Entertain</td>\n",
              "      <td>6.0</td>\n",
              "      <td>0.850000</td>\n",
              "    </tr>\n",
              "    <tr>\n",
              "      <th>1</th>\n",
              "      <td>2016-01-02 01:25:00</td>\n",
              "      <td>2016-01-02 01:37:00</td>\n",
              "      <td>Business</td>\n",
              "      <td>Fort Pierce</td>\n",
              "      <td>Fort Pierce</td>\n",
              "      <td>5.0</td>\n",
              "      <td>NaN</td>\n",
              "      <td>12.0</td>\n",
              "      <td>0.416667</td>\n",
              "    </tr>\n",
              "    <tr>\n",
              "      <th>2</th>\n",
              "      <td>2016-01-02 20:25:00</td>\n",
              "      <td>2016-01-02 20:38:00</td>\n",
              "      <td>Business</td>\n",
              "      <td>Fort Pierce</td>\n",
              "      <td>Fort Pierce</td>\n",
              "      <td>4.8</td>\n",
              "      <td>Errand/Supplies</td>\n",
              "      <td>13.0</td>\n",
              "      <td>0.369231</td>\n",
              "    </tr>\n",
              "    <tr>\n",
              "      <th>3</th>\n",
              "      <td>2016-01-05 17:31:00</td>\n",
              "      <td>2016-01-05 17:45:00</td>\n",
              "      <td>Business</td>\n",
              "      <td>Fort Pierce</td>\n",
              "      <td>Fort Pierce</td>\n",
              "      <td>4.7</td>\n",
              "      <td>Meeting</td>\n",
              "      <td>14.0</td>\n",
              "      <td>0.335714</td>\n",
              "    </tr>\n",
              "    <tr>\n",
              "      <th>4</th>\n",
              "      <td>2016-01-06 14:42:00</td>\n",
              "      <td>2016-01-06 15:49:00</td>\n",
              "      <td>Business</td>\n",
              "      <td>Fort Pierce</td>\n",
              "      <td>West Palm Beach</td>\n",
              "      <td>63.7</td>\n",
              "      <td>Customer Visit</td>\n",
              "      <td>67.0</td>\n",
              "      <td>0.950746</td>\n",
              "    </tr>\n",
              "    <tr>\n",
              "      <th>5</th>\n",
              "      <td>2016-01-06 17:15:00</td>\n",
              "      <td>2016-01-06 17:19:00</td>\n",
              "      <td>Business</td>\n",
              "      <td>West Palm Beach</td>\n",
              "      <td>West Palm Beach</td>\n",
              "      <td>4.3</td>\n",
              "      <td>Meal/Entertain</td>\n",
              "      <td>4.0</td>\n",
              "      <td>1.075000</td>\n",
              "    </tr>\n",
              "    <tr>\n",
              "      <th>6</th>\n",
              "      <td>2016-01-06 17:30:00</td>\n",
              "      <td>2016-01-06 17:35:00</td>\n",
              "      <td>Business</td>\n",
              "      <td>West Palm Beach</td>\n",
              "      <td>Palm Beach</td>\n",
              "      <td>7.1</td>\n",
              "      <td>Meeting</td>\n",
              "      <td>5.0</td>\n",
              "      <td>1.420000</td>\n",
              "    </tr>\n",
              "    <tr>\n",
              "      <th>7</th>\n",
              "      <td>2016-01-07 13:27:00</td>\n",
              "      <td>2016-01-07 13:33:00</td>\n",
              "      <td>Business</td>\n",
              "      <td>Cary</td>\n",
              "      <td>Cary</td>\n",
              "      <td>0.8</td>\n",
              "      <td>Meeting</td>\n",
              "      <td>6.0</td>\n",
              "      <td>0.133333</td>\n",
              "    </tr>\n",
              "    <tr>\n",
              "      <th>8</th>\n",
              "      <td>2016-01-10 08:05:00</td>\n",
              "      <td>2016-01-10 08:25:00</td>\n",
              "      <td>Business</td>\n",
              "      <td>Cary</td>\n",
              "      <td>Morrisville</td>\n",
              "      <td>8.3</td>\n",
              "      <td>Meeting</td>\n",
              "      <td>20.0</td>\n",
              "      <td>0.415000</td>\n",
              "    </tr>\n",
              "    <tr>\n",
              "      <th>9</th>\n",
              "      <td>2016-01-10 12:17:00</td>\n",
              "      <td>2016-01-10 12:44:00</td>\n",
              "      <td>Business</td>\n",
              "      <td>Jamaica</td>\n",
              "      <td>New York</td>\n",
              "      <td>16.5</td>\n",
              "      <td>Customer Visit</td>\n",
              "      <td>27.0</td>\n",
              "      <td>0.611111</td>\n",
              "    </tr>\n",
              "  </tbody>\n",
              "</table>\n",
              "</div>"
            ],
            "text/plain": [
              "          START_DATE*           END_DATE*  ... travel_time avg_speed_in_miles/min\n",
              "0 2016-01-01 21:11:00 2016-01-01 21:17:00  ...         6.0               0.850000\n",
              "1 2016-01-02 01:25:00 2016-01-02 01:37:00  ...        12.0               0.416667\n",
              "2 2016-01-02 20:25:00 2016-01-02 20:38:00  ...        13.0               0.369231\n",
              "3 2016-01-05 17:31:00 2016-01-05 17:45:00  ...        14.0               0.335714\n",
              "4 2016-01-06 14:42:00 2016-01-06 15:49:00  ...        67.0               0.950746\n",
              "5 2016-01-06 17:15:00 2016-01-06 17:19:00  ...         4.0               1.075000\n",
              "6 2016-01-06 17:30:00 2016-01-06 17:35:00  ...         5.0               1.420000\n",
              "7 2016-01-07 13:27:00 2016-01-07 13:33:00  ...         6.0               0.133333\n",
              "8 2016-01-10 08:05:00 2016-01-10 08:25:00  ...        20.0               0.415000\n",
              "9 2016-01-10 12:17:00 2016-01-10 12:44:00  ...        27.0               0.611111\n",
              "\n",
              "[10 rows x 9 columns]"
            ]
          },
          "metadata": {
            "tags": []
          },
          "execution_count": 357
        }
      ]
    },
    {
      "cell_type": "code",
      "metadata": {
        "id": "JgCg7bK_2SpJ",
        "colab_type": "code",
        "colab": {}
      },
      "source": [
        ""
      ],
      "execution_count": 127,
      "outputs": []
    },
    {
      "cell_type": "code",
      "metadata": {
        "id": "Ct4Bbhqj2Srx",
        "colab_type": "code",
        "colab": {}
      },
      "source": [
        ""
      ],
      "execution_count": 127,
      "outputs": []
    },
    {
      "cell_type": "code",
      "metadata": {
        "id": "WD-Yh2zR2SuS",
        "colab_type": "code",
        "colab": {}
      },
      "source": [
        ""
      ],
      "execution_count": 127,
      "outputs": []
    },
    {
      "cell_type": "code",
      "metadata": {
        "id": "r_ZYLpiP2Swg",
        "colab_type": "code",
        "colab": {}
      },
      "source": [
        ""
      ],
      "execution_count": 127,
      "outputs": []
    },
    {
      "cell_type": "code",
      "metadata": {
        "id": "Kku9JdOg2Sy4",
        "colab_type": "code",
        "colab": {}
      },
      "source": [
        ""
      ],
      "execution_count": 127,
      "outputs": []
    },
    {
      "cell_type": "code",
      "metadata": {
        "id": "B1bHtYDm2S1h",
        "colab_type": "code",
        "colab": {}
      },
      "source": [
        ""
      ],
      "execution_count": 127,
      "outputs": []
    },
    {
      "cell_type": "code",
      "metadata": {
        "id": "8a8_tumB2S34",
        "colab_type": "code",
        "colab": {}
      },
      "source": [
        ""
      ],
      "execution_count": 127,
      "outputs": []
    },
    {
      "cell_type": "code",
      "metadata": {
        "id": "DUUZ-rdg2S7E",
        "colab_type": "code",
        "colab": {}
      },
      "source": [
        ""
      ],
      "execution_count": 127,
      "outputs": []
    },
    {
      "cell_type": "code",
      "metadata": {
        "id": "tNLAk20_2SCq",
        "colab_type": "code",
        "colab": {}
      },
      "source": [
        ""
      ],
      "execution_count": 127,
      "outputs": []
    }
  ]
}